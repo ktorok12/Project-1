{
 "cells": [
  {
   "cell_type": "markdown",
   "id": "383190fc-3cc4-47a3-8ece-e2e544acbc29",
   "metadata": {},
   "source": [
    "Data Science Tools and Ecosystem"
   ]
  },
  {
   "cell_type": "markdown",
   "id": "02778543-77db-4c0b-a677-27c489472a37",
   "metadata": {
    "tags": []
   },
   "source": [
    "In this notebook, Data Science Tools and Ecosystem are summarized. "
   ]
  },
  {
   "cell_type": "markdown",
   "id": "7416693e-d742-4cf8-88ec-611574c9f206",
   "metadata": {},
   "source": [
    "Some of the popular languages that Data Scientists use are:\n",
    "    1. Python\n",
    "    2. R\n",
    "    3. SQL\n",
    "    4. JavaScript"
   ]
  },
  {
   "cell_type": "markdown",
   "id": "e4c03194-e215-4574-b038-6c62081c2671",
   "metadata": {},
   "source": [
    "Some of the commonly used libraries used by Data Scientists include:\n",
    "    1. Numpy\n",
    "    2. Pandas\n",
    "    3. TensorFlow\n",
    "    4. Matplotlib"
   ]
  },
  {
   "cell_type": "markdown",
   "id": "ed53446f-a9f5-4623-aa5a-25336f17d27a",
   "metadata": {},
   "source": [
    "Here's a table of some popular open source development environments used in data science:\n",
    "\n",
    "| Data Science Tools |\n",
    "|--------------------|\n",
    "| Jupyter Notebook |\n",
    "| Gitlab           |\n",
    "| RStudio          |\n"
   ]
  },
  {
   "cell_type": "markdown",
   "id": "2a46a276-bf92-46c7-bd1b-708537503c1b",
   "metadata": {
    "tags": []
   },
   "source": [
    "### Below are a few examples of evaluating arithmetic expressions in Python"
   ]
  },
  {
   "cell_type": "code",
   "execution_count": 1,
   "id": "41823562-b6c3-46f5-8b9d-4ecac8217b8a",
   "metadata": {},
   "outputs": [
    {
     "data": {
      "text/plain": [
       "17"
      ]
     },
     "execution_count": 1,
     "metadata": {},
     "output_type": "execute_result"
    }
   ],
   "source": [
    "# This is a simple arithmetic expression to multiply then add integers\n",
    "(3*4)+5"
   ]
  },
  {
   "cell_type": "code",
   "execution_count": 1,
   "id": "554aeb53-4cbf-46d5-b1f5-8482eb3f8950",
   "metadata": {
    "tags": []
   },
   "outputs": [
    {
     "name": "stdout",
     "output_type": "stream",
     "text": [
      "3.3333333333333335\n"
     ]
    }
   ],
   "source": [
    "# This will convert 200 minutes to hours by diving by 60\n",
    "minutes=200\n",
    "hours=minutes/60\n",
    "print(hours)"
   ]
  },
  {
   "cell_type": "markdown",
   "id": "d2e18a65-dd60-4943-8c42-705dcb1a1c3a",
   "metadata": {},
   "source": [
    "Objectives:\n",
    "* changing cells from code to markdown\n",
    "* listing commonly used libraries\n",
    "* listing popular data science languages\n",
    "* solve simple arithmetic\n",
    "* list demelopment environments used in data science\n"
   ]
  },
  {
   "cell_type": "markdown",
   "id": "2feae570-ba8a-4870-bd68-4535d17541b1",
   "metadata": {},
   "source": [
    "## Author\n",
    "Kyle Torok"
   ]
  },
  {
   "cell_type": "code",
   "execution_count": null,
   "id": "eba75901-9e98-4ccb-9c85-a3f8f7301c01",
   "metadata": {},
   "outputs": [],
   "source": []
  }
 ],
 "metadata": {
  "kernelspec": {
   "display_name": "Python 3 (ipykernel)",
   "language": "python",
   "name": "python3"
  },
  "language_info": {
   "codemirror_mode": {
    "name": "ipython",
    "version": 3
   },
   "file_extension": ".py",
   "mimetype": "text/x-python",
   "name": "python",
   "nbconvert_exporter": "python",
   "pygments_lexer": "ipython3",
   "version": "3.10.9"
  }
 },
 "nbformat": 4,
 "nbformat_minor": 5
}
